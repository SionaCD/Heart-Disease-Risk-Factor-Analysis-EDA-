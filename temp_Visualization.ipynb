{
  "nbformat": 4,
  "nbformat_minor": 0,
  "metadata": {
    "colab": {
      "provenance": [],
      "collapsed_sections": [
        "r6WDwiGrwzbQ"
      ]
    },
    "kernelspec": {
      "name": "python3",
      "display_name": "Python 3"
    },
    "language_info": {
      "name": "python"
    }
  },
  "cells": [
    {
      "cell_type": "markdown",
      "source": [
        "https://www.cdc.gov/brfss/brfssprevalence/index.html\n",
        "\n",
        "https://www.cdc.gov/brfss/questionnaires/pdf-ques/2021-BRFSS-Questionnaire-1-19-2022-508.pdf\n",
        "\n",
        "https://www.ncbi.nlm.nih.gov/pmc/articles/PMC4580372/\n",
        "\n",
        "https://www.kaggle.com/datasets/cdc/behavioral-risk-factor-surveillance-system\n",
        "\n",
        "https://www.cdc.gov/pcd/issues/2019/19_0109.htm\n",
        "\n",
        "https://medium.com/@alexteboul17/building-predictive-models-for-heart-disease-using-the-2015-behavioral-risk-factor-surveillance-b786368021ab\n",
        "\n",
        "https://github.com/topics/brfss-dataset\n",
        "\n",
        "https://openworks.wooster.edu/independentstudy/9436/\n",
        "\n",
        "https://www.youtube.com/watch?v=VVY5k4_AAUg\n",
        "\n",
        "https://easychair.org/publications/preprint_open/zXfg\n",
        "\n",
        "https://digital.library.txstate.edu/bitstream/handle/10877/8132/GRITSENKO-THESIS-2019.pdf?isAllowed=y&sequence=1\n",
        "\n",
        "https://www.cdc.gov/brfss/annual_data/2021/pdf/2021-calculated-variables-version4-508.pdf\n",
        "\n",
        "https://github.com/Machine-Learning-Projects1/2020-BRFSS-Codebook-CDC/blob/main/CDC_ML.ipynb"
      ],
      "metadata": {
        "id": "KuWZHa2vZD0y"
      }
    },
    {
      "cell_type": "markdown",
      "source": [
        "###Loading data"
      ],
      "metadata": {
        "id": "EOpWeZvEwJX-"
      }
    },
    {
      "cell_type": "code",
      "source": [
        "from google.colab import drive\n",
        "drive.mount('/content/drive')"
      ],
      "metadata": {
        "colab": {
          "base_uri": "https://localhost:8080/"
        },
        "id": "BYS2lqmOQLsE",
        "outputId": "3ff6c5bd-f157-45dc-b55d-f819eeab97bc"
      },
      "execution_count": null,
      "outputs": [
        {
          "output_type": "stream",
          "name": "stdout",
          "text": [
            "Mounted at /content/drive\n"
          ]
        }
      ]
    },
    {
      "cell_type": "code",
      "execution_count": null,
      "metadata": {
        "id": "mNsAq3qomTFy",
        "colab": {
          "base_uri": "https://localhost:8080/"
        },
        "outputId": "aa0811a8-a910-44aa-8f81-9457caf9f2da"
      },
      "outputs": [
        {
          "output_type": "stream",
          "name": "stderr",
          "text": [
            "/usr/local/lib/python3.8/dist-packages/pandas/io/sas/sas_xport.py:475: PerformanceWarning: DataFrame is highly fragmented.  This is usually the result of calling `frame.insert` many times, which has poor performance.  Consider joining all columns at once using pd.concat(axis=1) instead.  To get a de-fragmented frame, use `newframe = frame.copy()`\n",
            "  df[x] = v\n"
          ]
        },
        {
          "output_type": "execute_result",
          "data": {
            "text/plain": [
              "(438693, 303)"
            ]
          },
          "metadata": {},
          "execution_count": 2
        }
      ],
      "source": [
        "import pandas as pd\n",
        "\n",
        "raw_data = pd.read_sas('/content/drive/MyDrive/DM Project/Data/LLCP2021.XPT')\n",
        "raw_data.shape"
      ]
    },
    {
      "cell_type": "code",
      "source": [
        "%matplotlib inline\n",
        "import csv\n",
        "import numpy as np\n",
        "import scipy.stats as sp\n",
        "import pandas as pd\n",
        "import matplotlib as mpl\n",
        "import matplotlib.cm as cm\n",
        "import matplotlib.pyplot as plt\n",
        "import matplotlib.style as style\n",
        "import seaborn as sns"
      ],
      "metadata": {
        "id": "5qdho_RjTPcr"
      },
      "execution_count": null,
      "outputs": []
    },
    {
      "cell_type": "code",
      "source": [
        "#Selecting columns required. Source: https://www.cdc.gov/brfss/annual_data/2021/pdf/2021-calculated-variables-version4-508.pdf\n",
        "data = raw_data[['_RFHLTH', '_PHYS14D', '_MENT14D', '_TOTINDA', '_RFHYPE6', '_RFCHOL3', '_SEX', '_AGE_G', '_BMI5CAT', '_SMOKER3', '_RFDRHV7', '_MICHD']]\n",
        "data.head()"
      ],
      "metadata": {
        "colab": {
          "base_uri": "https://localhost:8080/",
          "height": 206
        },
        "id": "mS_vqLmFgKqj",
        "outputId": "0e40cea7-eba9-49b7-b930-fb94b70e8bf4"
      },
      "execution_count": null,
      "outputs": [
        {
          "output_type": "execute_result",
          "data": {
            "text/plain": [
              "   _RFHLTH  _PHYS14D  _MENT14D  _TOTINDA  _RFHYPE6  _RFCHOL3  _SEX  _AGE_G  \\\n",
              "0      2.0       3.0       2.0       2.0       1.0       2.0   2.0     6.0   \n",
              "1      1.0       1.0       1.0       1.0       2.0       2.0   2.0     6.0   \n",
              "2      1.0       1.0       1.0       2.0       2.0       1.0   2.0     6.0   \n",
              "3      1.0       1.0       2.0       1.0       2.0       2.0   2.0     5.0   \n",
              "4      2.0       3.0       1.0       1.0       1.0       2.0   1.0     6.0   \n",
              "\n",
              "   _BMI5CAT  _SMOKER3  _RFDRHV7  _MICHD  \n",
              "0       1.0       3.0       1.0     2.0  \n",
              "1       NaN       4.0       1.0     1.0  \n",
              "2       3.0       4.0       1.0     1.0  \n",
              "3       4.0       4.0       1.0     2.0  \n",
              "4       3.0       4.0       1.0     1.0  "
            ],
            "text/html": [
              "\n",
              "  <div id=\"df-19e9c251-60e4-4777-b672-1b2ca089489a\">\n",
              "    <div class=\"colab-df-container\">\n",
              "      <div>\n",
              "<style scoped>\n",
              "    .dataframe tbody tr th:only-of-type {\n",
              "        vertical-align: middle;\n",
              "    }\n",
              "\n",
              "    .dataframe tbody tr th {\n",
              "        vertical-align: top;\n",
              "    }\n",
              "\n",
              "    .dataframe thead th {\n",
              "        text-align: right;\n",
              "    }\n",
              "</style>\n",
              "<table border=\"1\" class=\"dataframe\">\n",
              "  <thead>\n",
              "    <tr style=\"text-align: right;\">\n",
              "      <th></th>\n",
              "      <th>_RFHLTH</th>\n",
              "      <th>_PHYS14D</th>\n",
              "      <th>_MENT14D</th>\n",
              "      <th>_TOTINDA</th>\n",
              "      <th>_RFHYPE6</th>\n",
              "      <th>_RFCHOL3</th>\n",
              "      <th>_SEX</th>\n",
              "      <th>_AGE_G</th>\n",
              "      <th>_BMI5CAT</th>\n",
              "      <th>_SMOKER3</th>\n",
              "      <th>_RFDRHV7</th>\n",
              "      <th>_MICHD</th>\n",
              "    </tr>\n",
              "  </thead>\n",
              "  <tbody>\n",
              "    <tr>\n",
              "      <th>0</th>\n",
              "      <td>2.0</td>\n",
              "      <td>3.0</td>\n",
              "      <td>2.0</td>\n",
              "      <td>2.0</td>\n",
              "      <td>1.0</td>\n",
              "      <td>2.0</td>\n",
              "      <td>2.0</td>\n",
              "      <td>6.0</td>\n",
              "      <td>1.0</td>\n",
              "      <td>3.0</td>\n",
              "      <td>1.0</td>\n",
              "      <td>2.0</td>\n",
              "    </tr>\n",
              "    <tr>\n",
              "      <th>1</th>\n",
              "      <td>1.0</td>\n",
              "      <td>1.0</td>\n",
              "      <td>1.0</td>\n",
              "      <td>1.0</td>\n",
              "      <td>2.0</td>\n",
              "      <td>2.0</td>\n",
              "      <td>2.0</td>\n",
              "      <td>6.0</td>\n",
              "      <td>NaN</td>\n",
              "      <td>4.0</td>\n",
              "      <td>1.0</td>\n",
              "      <td>1.0</td>\n",
              "    </tr>\n",
              "    <tr>\n",
              "      <th>2</th>\n",
              "      <td>1.0</td>\n",
              "      <td>1.0</td>\n",
              "      <td>1.0</td>\n",
              "      <td>2.0</td>\n",
              "      <td>2.0</td>\n",
              "      <td>1.0</td>\n",
              "      <td>2.0</td>\n",
              "      <td>6.0</td>\n",
              "      <td>3.0</td>\n",
              "      <td>4.0</td>\n",
              "      <td>1.0</td>\n",
              "      <td>1.0</td>\n",
              "    </tr>\n",
              "    <tr>\n",
              "      <th>3</th>\n",
              "      <td>1.0</td>\n",
              "      <td>1.0</td>\n",
              "      <td>2.0</td>\n",
              "      <td>1.0</td>\n",
              "      <td>2.0</td>\n",
              "      <td>2.0</td>\n",
              "      <td>2.0</td>\n",
              "      <td>5.0</td>\n",
              "      <td>4.0</td>\n",
              "      <td>4.0</td>\n",
              "      <td>1.0</td>\n",
              "      <td>2.0</td>\n",
              "    </tr>\n",
              "    <tr>\n",
              "      <th>4</th>\n",
              "      <td>2.0</td>\n",
              "      <td>3.0</td>\n",
              "      <td>1.0</td>\n",
              "      <td>1.0</td>\n",
              "      <td>1.0</td>\n",
              "      <td>2.0</td>\n",
              "      <td>1.0</td>\n",
              "      <td>6.0</td>\n",
              "      <td>3.0</td>\n",
              "      <td>4.0</td>\n",
              "      <td>1.0</td>\n",
              "      <td>1.0</td>\n",
              "    </tr>\n",
              "  </tbody>\n",
              "</table>\n",
              "</div>\n",
              "      <button class=\"colab-df-convert\" onclick=\"convertToInteractive('df-19e9c251-60e4-4777-b672-1b2ca089489a')\"\n",
              "              title=\"Convert this dataframe to an interactive table.\"\n",
              "              style=\"display:none;\">\n",
              "        \n",
              "  <svg xmlns=\"http://www.w3.org/2000/svg\" height=\"24px\"viewBox=\"0 0 24 24\"\n",
              "       width=\"24px\">\n",
              "    <path d=\"M0 0h24v24H0V0z\" fill=\"none\"/>\n",
              "    <path d=\"M18.56 5.44l.94 2.06.94-2.06 2.06-.94-2.06-.94-.94-2.06-.94 2.06-2.06.94zm-11 1L8.5 8.5l.94-2.06 2.06-.94-2.06-.94L8.5 2.5l-.94 2.06-2.06.94zm10 10l.94 2.06.94-2.06 2.06-.94-2.06-.94-.94-2.06-.94 2.06-2.06.94z\"/><path d=\"M17.41 7.96l-1.37-1.37c-.4-.4-.92-.59-1.43-.59-.52 0-1.04.2-1.43.59L10.3 9.45l-7.72 7.72c-.78.78-.78 2.05 0 2.83L4 21.41c.39.39.9.59 1.41.59.51 0 1.02-.2 1.41-.59l7.78-7.78 2.81-2.81c.8-.78.8-2.07 0-2.86zM5.41 20L4 18.59l7.72-7.72 1.47 1.35L5.41 20z\"/>\n",
              "  </svg>\n",
              "      </button>\n",
              "      \n",
              "  <style>\n",
              "    .colab-df-container {\n",
              "      display:flex;\n",
              "      flex-wrap:wrap;\n",
              "      gap: 12px;\n",
              "    }\n",
              "\n",
              "    .colab-df-convert {\n",
              "      background-color: #E8F0FE;\n",
              "      border: none;\n",
              "      border-radius: 50%;\n",
              "      cursor: pointer;\n",
              "      display: none;\n",
              "      fill: #1967D2;\n",
              "      height: 32px;\n",
              "      padding: 0 0 0 0;\n",
              "      width: 32px;\n",
              "    }\n",
              "\n",
              "    .colab-df-convert:hover {\n",
              "      background-color: #E2EBFA;\n",
              "      box-shadow: 0px 1px 2px rgba(60, 64, 67, 0.3), 0px 1px 3px 1px rgba(60, 64, 67, 0.15);\n",
              "      fill: #174EA6;\n",
              "    }\n",
              "\n",
              "    [theme=dark] .colab-df-convert {\n",
              "      background-color: #3B4455;\n",
              "      fill: #D2E3FC;\n",
              "    }\n",
              "\n",
              "    [theme=dark] .colab-df-convert:hover {\n",
              "      background-color: #434B5C;\n",
              "      box-shadow: 0px 1px 3px 1px rgba(0, 0, 0, 0.15);\n",
              "      filter: drop-shadow(0px 1px 2px rgba(0, 0, 0, 0.3));\n",
              "      fill: #FFFFFF;\n",
              "    }\n",
              "  </style>\n",
              "\n",
              "      <script>\n",
              "        const buttonEl =\n",
              "          document.querySelector('#df-19e9c251-60e4-4777-b672-1b2ca089489a button.colab-df-convert');\n",
              "        buttonEl.style.display =\n",
              "          google.colab.kernel.accessAllowed ? 'block' : 'none';\n",
              "\n",
              "        async function convertToInteractive(key) {\n",
              "          const element = document.querySelector('#df-19e9c251-60e4-4777-b672-1b2ca089489a');\n",
              "          const dataTable =\n",
              "            await google.colab.kernel.invokeFunction('convertToInteractive',\n",
              "                                                     [key], {});\n",
              "          if (!dataTable) return;\n",
              "\n",
              "          const docLinkHtml = 'Like what you see? Visit the ' +\n",
              "            '<a target=\"_blank\" href=https://colab.research.google.com/notebooks/data_table.ipynb>data table notebook</a>'\n",
              "            + ' to learn more about interactive tables.';\n",
              "          element.innerHTML = '';\n",
              "          dataTable['output_type'] = 'display_data';\n",
              "          await google.colab.output.renderOutput(dataTable, element);\n",
              "          const docLink = document.createElement('div');\n",
              "          docLink.innerHTML = docLinkHtml;\n",
              "          element.appendChild(docLink);\n",
              "        }\n",
              "      </script>\n",
              "    </div>\n",
              "  </div>\n",
              "  "
            ]
          },
          "metadata": {},
          "execution_count": 3
        }
      ]
    },
    {
      "cell_type": "code",
      "source": [
        "#data.info()"
      ],
      "metadata": {
        "id": "QSB5ArUw0Ywj"
      },
      "execution_count": null,
      "outputs": []
    },
    {
      "cell_type": "code",
      "source": [
        "#data.describe()"
      ],
      "metadata": {
        "id": "ztJ_5L0M0adk"
      },
      "execution_count": null,
      "outputs": []
    },
    {
      "cell_type": "code",
      "source": [
        "data.isnull().sum()"
      ],
      "metadata": {
        "colab": {
          "base_uri": "https://localhost:8080/"
        },
        "id": "p_bq3VTS2eXu",
        "outputId": "4ab8286e-3d51-47d9-9ceb-3e24b016e37e"
      },
      "execution_count": null,
      "outputs": [
        {
          "output_type": "execute_result",
          "data": {
            "text/plain": [
              "_RFHLTH         0\n",
              "_PHYS14D        0\n",
              "_MENT14D        0\n",
              "_TOTINDA        0\n",
              "_RFHYPE6        0\n",
              "_RFCHOL3    61151\n",
              "_SEX            0\n",
              "_AGE_G          0\n",
              "_BMI5CAT    46852\n",
              "_SMOKER3        0\n",
              "_RFDRHV7        0\n",
              "_MICHD       4635\n",
              "dtype: int64"
            ]
          },
          "metadata": {},
          "execution_count": 4
        }
      ]
    },
    {
      "cell_type": "markdown",
      "source": [
        "### Data Visualization"
      ],
      "metadata": {
        "id": "eti12m0K4pvO"
      }
    },
    {
      "cell_type": "code",
      "source": [
        "# Gender vs Heart Problems\n",
        "import seaborn as sns\n",
        "\n",
        "ax = sns.countplot(x=\"_SEX\", hue=\"_MICHD\", data=data)\n",
        "ax.set_title(\"Gender vs Heart Problems\")\n",
        "ax.set_ylabel(\"Frequency\")\n",
        "labels_hd = [\"Having a Heart Disease\",\"No heart Disease\"]\n",
        "ax.legend(labels=labels_hd)\n",
        "num = np.arange(2)\n",
        "labels=[\"Male\",\"Female\"]\n",
        "plt.xticks(num, labels)\n",
        "plt.show()\n"
      ],
      "metadata": {
        "colab": {
          "base_uri": "https://localhost:8080/",
          "height": 296
        },
        "id": "lskeZxsv46Uc",
        "outputId": "0e8e0a6d-5b61-43c2-fe19-10cba9634e83"
      },
      "execution_count": null,
      "outputs": [
        {
          "output_type": "display_data",
          "data": {
            "text/plain": [
              "<Figure size 432x288 with 1 Axes>"
            ],
            "image/png": "[encoded data removed]"
          },
          "metadata": {
            "needs_background": "light"
          }
        }
      ]
    },
    {
      "cell_type": "code",
      "source": [
        "gender_ct = pd.crosstab(data['_MICHD'], data['_SEX'])\n",
        "print (gender_ct)\n",
        "\n",
        "print(\"-----column percentages-----\")\n",
        "colsum=gender_ct.sum(axis=0)\n",
        "colpct=gender_ct/colsum\n",
        "print(colpct)\n",
        "\n",
        "import scipy.stats as sp\n",
        "\n",
        "print(\"-----Chi-square calculations-----\")\n",
        "print ('Chi-square value, p value, Degrees of freedom, Expected counts/frequencies')\n",
        "cs1= sp.chi2_contingency(gender_ct)\n",
        "print (cs1)"
      ],
      "metadata": {
        "colab": {
          "base_uri": "https://localhost:8080/"
        },
        "id": "8WYJQhH0Qtmo",
        "outputId": "5bb68a0e-9518-4b91-f0cb-263608a8f19b"
      },
      "execution_count": null,
      "outputs": [
        {
          "output_type": "stream",
          "name": "stdout",
          "text": [
            "_SEX       1.0     2.0\n",
            "_MICHD                \n",
            "1.0      20542   14781\n",
            "2.0     180918  217817\n",
            "-----column percentages-----\n",
            "_SEX         1.0       2.0\n",
            "_MICHD                    \n",
            "1.0     0.101966  0.063547\n",
            "2.0     0.898034  0.936453\n",
            "-----Chi-square calculations-----\n",
            "Chi-square value, p value, Degrees of freedom, Expected counts/frequencies\n",
            "(2130.9384459261464, 0.0, 1, array([[ 16394.51773726,  18928.48226274],\n",
            "       [185065.48226274, 213669.51773726]]))\n"
          ]
        }
      ]
    },
    {
      "cell_type": "code",
      "source": [
        "# Mental Health vs Heart Problems\n",
        "\n",
        "ax = sns.countplot(x=\"_MENT14D\", hue=\"_MICHD\", data=data)\n",
        "ax.set_title(\"Mental Health vs Heart Problems\")\n",
        "ax.set_ylabel(\"Frequency\")\n",
        "labels_hd = [\"Having a Heart Disease\",\"No heart Disease\"]\n",
        "ax.legend(labels=labels_hd)\n",
        "num = np.arange(3)\n",
        "labels=[\"Zero days when mental health not good\",\"1-13 days when mental health not good\",\"14+ days when mental health not good\"]\n",
        "df.plot(kind='bar',alpha=0.75, rot=15)\n",
        "plt.xlabel(\"\")\n",
        "plt.xticks(num, labels)\n",
        "plt.show()\n"
      ],
      "metadata": {
        "colab": {
          "base_uri": "https://localhost:8080/",
          "height": 333
        },
        "id": "KH_wJTTx8_WB",
        "outputId": "09cbdb7e-d1b8-43e2-c1f6-4eb7c52d365d"
      },
      "execution_count": null,
      "outputs": [
        {
          "output_type": "display_data",
          "data": {
            "text/plain": [
              "<Figure size 432x288 with 1 Axes>"
            ],
            "image/png": "[encoded data removed]"
          },
          "metadata": {
            "needs_background": "light"
          }
        }
      ]
    },
    {
      "cell_type": "code",
      "source": [
        "mh_ct = pd.crosstab(data['_MICHD'], data['_MENT14D'])\n",
        "print (gender_ct)\n",
        "\n",
        "print(\"-----column percentages-----\")\n",
        "colsum=mh_ct.sum(axis=0)\n",
        "colpct=mh_ct/colsum\n",
        "print(colpct)\n",
        "\n",
        "import scipy.stats as sp\n",
        "\n",
        "print(\"-----Chi-square calculations-----\")\n",
        "print ('Chi-square value, p value, Degrees of freedom, Expected counts/frequencies')\n",
        "cs2= sp.chi2_contingency(mh_ct)\n",
        "print (cs2)"
      ],
      "metadata": {
        "colab": {
          "base_uri": "https://localhost:8080/"
        },
        "id": "hkQ0tFKh9uxB",
        "outputId": "99372a00-cd9d-4db1-b164-20fe1c71f0f6"
      },
      "execution_count": null,
      "outputs": [
        {
          "output_type": "stream",
          "name": "stdout",
          "text": [
            "_SEX       1.0     2.0\n",
            "_MICHD                \n",
            "1.0      20542   14781\n",
            "2.0     180918  217817\n",
            "-----column percentages-----\n",
            "_MENT14D       1.0       2.0       3.0       9.0\n",
            "_MICHD                                          \n",
            "1.0       0.082867  0.063367  0.103478  0.115719\n",
            "2.0       0.917133  0.936633  0.896522  0.884281\n",
            "-----Chi-square calculations-----\n",
            "Chi-square value, p value, Degrees of freedom, Expected counts/frequencies\n",
            "(932.6970835928756, 7.156108414183e-202, 3, array([[ 21851.19200429,   8422.10773445,   4431.54898193,\n",
            "           618.15127932],\n",
            "       [246661.80799571,  95070.89226555,  50024.45101807,\n",
            "          6977.84872068]]))\n"
          ]
        }
      ]
    },
    {
      "cell_type": "code",
      "source": [
        "# Physical Activity vs Heart Problems\n",
        "\n",
        "ax = sns.countplot(x=\"_TOTINDA\", hue=\"_MICHD\", data=data)\n",
        "ax.set_title(\"Physical Activity vs Heart Problems\")\n",
        "ax.set_ylabel(\"Frequency\")\n",
        "labels_hd = [\"Having a Heart Disease\",\"No heart Disease\"]\n",
        "ax.legend(labels=labels_hd)\n",
        "num = np.arange(3)\n",
        "labels=[\"Had physical activity\",\"No physical activity\", \"Missing\"]\n",
        "plt.xticks(num, labels)\n",
        "plt.show()"
      ],
      "metadata": {
        "colab": {
          "base_uri": "https://localhost:8080/",
          "height": 296
        },
        "id": "GhXItN9gA7hv",
        "outputId": "596b30bb-7952-4fb8-8a42-169a32e31088"
      },
      "execution_count": null,
      "outputs": [
        {
          "output_type": "display_data",
          "data": {
            "text/plain": [
              "<Figure size 432x288 with 1 Axes>"
            ],
            "image/png": "[encoded data removed]"
          },
          "metadata": {
            "needs_background": "light"
          }
        }
      ]
    },
    {
      "cell_type": "code",
      "source": [
        "phyact_ct = pd.crosstab(data['_MICHD'], data['_TOTINDA'])\n",
        "print (phyact_ct)\n",
        "print(\"-----column percentages-----\")\n",
        "\n",
        "colsum=phyact_ct.sum(axis=0)\n",
        "colpct=phyact_ct/colsum\n",
        "print(colpct)\n",
        "\n",
        "import scipy.stats as sp\n",
        "\n",
        "print(\"-----Chi-square calculations-----\")\n",
        "print ('Chi-square value, p value, Degrees of freedom, Expected counts/frequencies')\n",
        "cs3= sp.chi2_contingency(phyact_ct)\n",
        "print (cs3)"
      ],
      "metadata": {
        "colab": {
          "base_uri": "https://localhost:8080/"
        },
        "id": "HdV1LDkQBWDi",
        "outputId": "bc375867-9989-4579-ce50-131a58a174c6"
      },
      "execution_count": null,
      "outputs": [
        {
          "output_type": "stream",
          "name": "stdout",
          "text": [
            "_TOTINDA     1.0    2.0  9.0\n",
            "_MICHD                      \n",
            "1.0        21823  13387  113\n",
            "2.0       306250  91795  690\n",
            "-----column percentages-----\n",
            "_TOTINDA       1.0       2.0       9.0\n",
            "_MICHD                                \n",
            "1.0       0.066519  0.127275  0.140722\n",
            "2.0       0.933481  0.872725  0.859278\n",
            "-----Chi-square calculations-----\n",
            "Chi-square value, p value, Degrees of freedom, Expected counts/frequencies\n",
            "(3970.670820278661, 0.0, 2, array([[2.66980970e+04, 8.55955606e+03, 6.53469559e+01],\n",
            "       [3.01374903e+05, 9.66224439e+04, 7.37653044e+02]]))\n"
          ]
        }
      ]
    },
    {
      "cell_type": "code",
      "source": [
        "# High Blood Pressure vs Heart Problems\n",
        "\n",
        "ax = sns.countplot(x=\"_RFHYPE6\", hue=\"_MICHD\", data=data)\n",
        "ax.set_title(\"High Blood Pressure vs Heart Diseases\")\n",
        "ax.set_ylabel(\"Frequency\")\n",
        "labels_hd = [\"Having a Heart Disease\",\"No heart Disease\"]\n",
        "ax.legend(labels=labels_hd)\n",
        "num = np.arange(3)\n",
        "labels=[\"NO\",\"YES\", \"MISSING\"]\n",
        "plt.xticks(num, labels)\n",
        "plt.show()"
      ],
      "metadata": {
        "colab": {
          "base_uri": "https://localhost:8080/",
          "height": 296
        },
        "id": "LuwVOJG6CCjM",
        "outputId": "e13e18ed-a8cf-4583-d052-93635a11b04a"
      },
      "execution_count": null,
      "outputs": [
        {
          "output_type": "display_data",
          "data": {
            "text/plain": [
              "<Figure size 432x288 with 1 Axes>"
            ],
            "image/png": "[encoded data removed]"
          },
          "metadata": {
            "needs_background": "light"
          }
        }
      ]
    },
    {
      "cell_type": "code",
      "source": [
        "bp_ct = pd.crosstab(data['_MICHD'], data['_RFHYPE6'])\n",
        "print (bp_ct)\n",
        "print(\"-----column percentages-----\")\n",
        "\n",
        "colsum=bp_ct.sum(axis=0)\n",
        "colpct=bp_ct/colsum\n",
        "print(colpct)\n",
        "\n",
        "import scipy.stats as sp\n",
        "\n",
        "print(\"-----Chi-square calculations-----\")\n",
        "print ('Chi-square value, p value, Degrees of freedom, Expected counts/frequencies')\n",
        "cs4= sp.chi2_contingency(bp_ct)\n",
        "print (cs4)"
      ],
      "metadata": {
        "colab": {
          "base_uri": "https://localhost:8080/"
        },
        "id": "uiDsUdYvEEuc",
        "outputId": "1f2d1966-31ad-4ab4-b608-7bfcb38503f9"
      },
      "execution_count": null,
      "outputs": [
        {
          "output_type": "stream",
          "name": "stdout",
          "text": [
            "_RFHYPE6     1.0     2.0   9.0\n",
            "_MICHD                        \n",
            "1.0         9164   26020   139\n",
            "2.0       253829  143416  1490\n",
            "-----column percentages-----\n",
            "_RFHYPE6       1.0       2.0       9.0\n",
            "_MICHD                                \n",
            "1.0       0.034845  0.153568  0.085328\n",
            "2.0       0.965155  0.846432  0.914672\n",
            "-----Chi-square calculations-----\n",
            "Chi-square value, p value, Degrees of freedom, Expected counts/frequencies\n",
            "(19429.786242682047, 0.0, 2, array([[2.14019825e+04, 1.37884518e+04, 1.32565618e+02],\n",
            "       [2.41591017e+05, 1.55647548e+05, 1.49643438e+03]]))\n"
          ]
        }
      ]
    },
    {
      "cell_type": "code",
      "source": [
        "# High Cholesterol vs Heart Diseases\n",
        "\n",
        "ax = sns.countplot(x=\"_RFCHOL3\", hue=\"_MICHD\", data=data)\n",
        "ax.set_title(\"High Cholesterol vs Heart Diseases\")\n",
        "ax.set_ylabel(\"Frequency\")\n",
        "labels_hd = [\"Having a Heart Disease\",\"No heart Disease\"]\n",
        "ax.legend(labels=labels_hd)\n",
        "num = np.arange(3)\n",
        "labels=[\"NO\",\"YES\", \"MISSING\"]\n",
        "plt.xticks(num, labels)\n",
        "plt.show()"
      ],
      "metadata": {
        "colab": {
          "base_uri": "https://localhost:8080/",
          "height": 296
        },
        "id": "4Y9F_cusFMSO",
        "outputId": "3dbc5f1f-7099-4a68-da64-59736136677b"
      },
      "execution_count": null,
      "outputs": [
        {
          "output_type": "display_data",
          "data": {
            "text/plain": [
              "<Figure size 432x288 with 1 Axes>"
            ],
            "image/png": "[encoded data removed]"
          },
          "metadata": {
            "needs_background": "light"
          }
        }
      ]
    },
    {
      "cell_type": "code",
      "source": [
        "chol_ct = pd.crosstab(data['_MICHD'], data['_RFCHOL3'])\n",
        "print (chol_ct)\n",
        "print(\"-----column percentages-----\")\n",
        "\n",
        "colsum=chol_ct.sum(axis=0)\n",
        "colpct=chol_ct/colsum\n",
        "print(colpct)\n",
        "\n",
        "import scipy.stats as sp\n",
        "\n",
        "print(\"-----Chi-square calculations-----\")\n",
        "print ('Chi-square value, p value, Degrees of freedom, Expected counts/frequencies')\n",
        "cs6= sp.chi2_contingency(chol_ct)\n",
        "print (cs6)"
      ],
      "metadata": {
        "colab": {
          "base_uri": "https://localhost:8080/"
        },
        "id": "0Y3RHrU4F6gh",
        "outputId": "7032b857-239d-4689-9f8b-45942d465853"
      },
      "execution_count": null,
      "outputs": [
        {
          "output_type": "stream",
          "name": "stdout",
          "text": [
            "_RFCHOL3     1.0     2.0   9.0\n",
            "_MICHD                        \n",
            "1.0        10947   21903   306\n",
            "2.0       212191  125883  2654\n",
            "-----column percentages-----\n",
            "_RFCHOL3       1.0       2.0       9.0\n",
            "_MICHD                                \n",
            "1.0       0.049059  0.148208  0.103378\n",
            "2.0       0.950941  0.851792  0.896622\n",
            "-----Chi-square calculations-----\n",
            "Chi-square value, p value, Degrees of freedom, Expected counts/frequencies\n",
            "(10822.20401552232, 0.0, 2, array([[ 19787.85807363,  13105.64938858,    262.49253779],\n",
            "       [203350.14192637, 134680.35061142,   2697.50746221]]))\n"
          ]
        }
      ]
    },
    {
      "cell_type": "code",
      "source": [
        "# Age vs Heart Diseases\n",
        "\n",
        "ax = sns.countplot(x=\"_AGE_G\", hue=\"_MICHD\", data=data)\n",
        "ax.set_title(\"Age vs Heart Diseases\")\n",
        "ax.set_ylabel(\"Frequency\")\n",
        "labels_hd = [\"Having a Heart Disease\",\"No heart Disease\"]\n",
        "ax.legend(labels=labels_hd)\n",
        "num = np.arange(6)\n",
        "labels=[\"18-24\",\"25-34\",\"35-44\",\"45-54\",\"55-64\",\">=65\"]\n",
        "plt.xticks(num, labels)\n",
        "plt.show()"
      ],
      "metadata": {
        "colab": {
          "base_uri": "https://localhost:8080/",
          "height": 296
        },
        "id": "Qa7JtEJvGaNo",
        "outputId": "d997cf64-b578-4660-b4e2-96304df6a72a"
      },
      "execution_count": null,
      "outputs": [
        {
          "output_type": "display_data",
          "data": {
            "text/plain": [
              "<Figure size 432x288 with 1 Axes>"
            ],
            "image/png": "[encoded data removed]"
          },
          "metadata": {
            "needs_background": "light"
          }
        }
      ]
    },
    {
      "cell_type": "code",
      "source": [
        "age_ct = pd.crosstab(data['_MICHD'], data['_AGE_G'])\n",
        "print (age_ct)\n",
        "print(\"-----column percentages-----\")\n",
        "\n",
        "colsum=age_ct.sum(axis=0)\n",
        "colpct=age_ct/colsum\n",
        "print(colpct)\n",
        "\n",
        "import scipy.stats as sp\n",
        "\n",
        "print(\"-----Chi-square calculations-----\")\n",
        "print ('Chi-square value, p value, Degrees of freedom, Expected counts/frequencies')\n",
        "cs7= sp.chi2_contingency(age_ct)\n",
        "print (cs7)"
      ],
      "metadata": {
        "colab": {
          "base_uri": "https://localhost:8080/"
        },
        "id": "CyWFWXd_OrKm",
        "outputId": "24ca7b97-7da0-46ec-ece1-589fca273e79"
      },
      "execution_count": null,
      "outputs": [
        {
          "output_type": "stream",
          "name": "stdout",
          "text": [
            "_AGE_G    1.0    2.0    3.0    4.0    5.0     6.0\n",
            "_MICHD                                           \n",
            "1.0       150    461   1068   2826   6817   24001\n",
            "2.0     25732  46713  57339  64524  75341  129086\n",
            "-----column percentages-----\n",
            "_AGE_G       1.0       2.0       3.0      4.0       5.0      6.0\n",
            "_MICHD                                                          \n",
            "1.0     0.005796  0.009772  0.018285  0.04196  0.082974  0.15678\n",
            "2.0     0.994204  0.990228  0.981715  0.95804  0.917026  0.84322\n",
            "-----Chi-square calculations-----\n",
            "Chi-square value, p value, Degrees of freedom, Expected counts/frequencies\n",
            "(21369.021168582014, 0.0, 5, array([[  2106.23899571,   3838.9505596 ,   4753.07553599,\n",
            "          5480.84368909,   6685.89689396,  12457.99432564],\n",
            "       [ 23775.76100429,  43335.0494404 ,  53653.92446401,\n",
            "         61869.15631091,  75472.10310604, 140629.00567436]]))\n"
          ]
        }
      ]
    },
    {
      "cell_type": "code",
      "source": [
        "# BMI vs Heart Diseases\n",
        "\n",
        "ax = sns.countplot(x=\"_BMI5CAT\", hue=\"_MICHD\", data=data)\n",
        "ax.set_title(\"BMI vs Heart Diseases\")\n",
        "ax.set_ylabel(\"Frequency\")\n",
        "labels_hd = [\"Having a Heart Disease\",\"No heart Disease\"]\n",
        "ax.legend(labels=labels_hd)\n",
        "num = np.arange(4)\n",
        "labels=[\"Underweight\",\"Normal Weight\",\"Overweight\",\"Obese\"]\n",
        "plt.xticks(num, labels)\n",
        "plt.show()"
      ],
      "metadata": {
        "colab": {
          "base_uri": "https://localhost:8080/",
          "height": 296
        },
        "id": "KUOj4mweTut6",
        "outputId": "3c760cae-bb2a-4b02-cbf5-1ee6d0590349"
      },
      "execution_count": null,
      "outputs": [
        {
          "output_type": "display_data",
          "data": {
            "text/plain": [
              "<Figure size 432x288 with 1 Axes>"
            ],
            "image/png": "[encoded data removed]"
          },
          "metadata": {
            "needs_background": "light"
          }
        }
      ]
    },
    {
      "cell_type": "code",
      "source": [
        "bmi_ct = pd.crosstab(data['_MICHD'], data['_BMI5CAT'])\n",
        "print (bmi_ct)\n",
        "print(\"-----column percentages-----\")\n",
        "\n",
        "colsum=bmi_ct.sum(axis=0)\n",
        "colpct=bmi_ct/colsum\n",
        "print(colpct)\n",
        "\n",
        "import scipy.stats as sp\n",
        "\n",
        "print(\"-----Chi-square calculations-----\")\n",
        "print ('Chi-square value, p value, Degrees of freedom, Expected counts/frequencies')\n",
        "cs8= sp.chi2_contingency(bmi_ct)\n",
        "print (cs8)"
      ],
      "metadata": {
        "colab": {
          "base_uri": "https://localhost:8080/"
        },
        "id": "t2aDpALRUBU7",
        "outputId": "adaf0289-6ce5-4f2e-f6c0-7fb6460b20e0"
      },
      "execution_count": null,
      "outputs": [
        {
          "output_type": "stream",
          "name": "stdout",
          "text": [
            "_BMI5CAT   1.0     2.0     3.0     4.0\n",
            "_MICHD                                \n",
            "1.0        510    7458   11848   12837\n",
            "2.0       5680  107017  125694  116980\n",
            "-----column percentages-----\n",
            "_BMI5CAT       1.0      2.0       3.0       4.0\n",
            "_MICHD                                         \n",
            "1.0       0.082391  0.06515  0.086141  0.098885\n",
            "2.0       0.917609  0.93485  0.913859  0.901115\n",
            "-----Chi-square calculations-----\n",
            "Chi-square value, p value, Degrees of freedom, Expected counts/frequencies\n",
            "(909.2828798146065, 8.580207878636096e-197, 3, array([[   520.90094943,   9633.30148393,  11574.43592664,\n",
            "         10924.36164   ],\n",
            "       [  5669.09905057, 104841.69851607, 125967.56407336,\n",
            "        118892.63836   ]]))\n"
          ]
        }
      ]
    },
    {
      "cell_type": "code",
      "source": [
        "# Smoking vs Heart Diseases\n",
        "\n",
        "ax = sns.countplot(x=\"_SMOKER3\", hue=\"_MICHD\", data=data)\n",
        "ax.set_title(\"Smoking vs Heart Diseases\")\n",
        "ax.set_ylabel(\"Frequency\")\n",
        "labels_hd = [\"Having a Heart Disease\",\"No heart Disease\"]\n",
        "ax.legend(labels=labels_hd)\n",
        "num = np.arange(5)\n",
        "labels=[\"Every day\",\"Some days\",\"Former smoker\",\"Non-smoker\", \"Missing\"]\n",
        "df.plot(kind='bar',alpha=0.75, rot=15)\n",
        "plt.xlabel(\"\")\n",
        "plt.xticks(num, labels)\n",
        "plt.show()"
      ],
      "metadata": {
        "colab": {
          "base_uri": "https://localhost:8080/",
          "height": 300
        },
        "id": "EclmDMFoJBxJ",
        "outputId": "a714ebba-a41a-4afc-9f6b-8f3e5965ed68"
      },
      "execution_count": null,
      "outputs": [
        {
          "output_type": "display_data",
          "data": {
            "text/plain": [
              "<Figure size 432x288 with 1 Axes>"
            ],
            "image/png": "[encoded data removed]"
          },
          "metadata": {
            "needs_background": "light"
          }
        }
      ]
    },
    {
      "cell_type": "code",
      "source": [
        "smoker_ct = pd.crosstab(data['_MICHD'], data['_SMOKER3'])\n",
        "print (smoker_ct)\n",
        "print(\"-----column percentages-----\")\n",
        "\n",
        "colsum=smoker_ct.sum(axis=0)\n",
        "colpct=smoker_ct/colsum\n",
        "print(colpct)\n",
        "\n",
        "import scipy.stats as sp\n",
        "\n",
        "print(\"-----Chi-square calculations-----\")\n",
        "print ('Chi-square value, p value, Degrees of freedom, Expected counts/frequencies')\n",
        "cs9= sp.chi2_contingency(smoker_ct)\n",
        "print (cs9)"
      ],
      "metadata": {
        "colab": {
          "base_uri": "https://localhost:8080/"
        },
        "id": "5oB-c50NJaBL",
        "outputId": "762d74de-8474-4470-c7f8-bc9e36b1335c"
      },
      "execution_count": null,
      "outputs": [
        {
          "output_type": "stream",
          "name": "stdout",
          "text": [
            "_SMOKER3    1.0    2.0    3.0     4.0    9.0\n",
            "_MICHD                                      \n",
            "1.0        4116   1376  14047   14077   1707\n",
            "2.0       34324  13368  97895  230358  22790\n",
            "-----column percentages-----\n",
            "_SMOKER3       1.0       2.0       3.0      4.0       9.0\n",
            "_MICHD                                                   \n",
            "1.0       0.107076  0.093326  0.125485  0.05759  0.069682\n",
            "2.0       0.892924  0.906674  0.874515  0.94241  0.930318\n",
            "-----Chi-square calculations-----\n",
            "Chi-square value, p value, Degrees of freedom, Expected counts/frequencies\n",
            "(5175.917390936478, 0.0, 4, array([[  3128.19051832,   1199.84497924,   9109.67489598,\n",
            "         19891.7598685 ,   1993.52973796],\n",
            "       [ 35311.80948168,  13544.15502076, 102832.32510402,\n",
            "        224543.2401315 ,  22503.47026204]]))\n"
          ]
        }
      ]
    },
    {
      "cell_type": "code",
      "source": [
        "# Heavy Alcohol Consumption vs Heart Diseases\n",
        "\n",
        "ax = sns.countplot(x=\"_RFDRHV7\", hue=\"_MICHD\", data=data)\n",
        "ax.set_title(\"Heavy Alcohol Consumption vs Heart Diseases\")\n",
        "ax.set_ylabel(\"Frequency\")\n",
        "labels_hd = [\"Having a Heart Disease\",\"No heart Disease\"]\n",
        "ax.legend(labels=labels_hd)\n",
        "num = np.arange(2)\n",
        "labels=[\"NO\",\"YES\"]\n",
        "plt.xticks(num, labels)\n",
        "plt.show()"
      ],
      "metadata": {
        "colab": {
          "base_uri": "https://localhost:8080/",
          "height": 296
        },
        "id": "K92m9wPdJwib",
        "outputId": "87cd1f89-7a64-4991-e0a5-afcc6f4cb625"
      },
      "execution_count": null,
      "outputs": [
        {
          "output_type": "display_data",
          "data": {
            "text/plain": [
              "<Figure size 432x288 with 1 Axes>"
            ],
            "image/png": "[encoded data removed]"
          },
          "metadata": {
            "needs_background": "light"
          }
        }
      ]
    },
    {
      "cell_type": "code",
      "source": [
        "drinker_ct = pd.crosstab(data['_MICHD'], data['_RFDRHV7'])\n",
        "print (drinker_ct)\n",
        "print(\"-----column percentages-----\")\n",
        "\n",
        "colsum=drinker_ct.sum(axis=0)\n",
        "colpct=drinker_ct/colsum\n",
        "print(colpct)\n",
        "\n",
        "import scipy.stats as sp\n",
        "\n",
        "print(\"-----Chi-square calculations-----\")\n",
        "print ('Chi-square value, p value, Degrees of freedom, Expected counts/frequencies')\n",
        "cs10= sp.chi2_contingency(drinker_ct)\n",
        "print (cs10)"
      ],
      "metadata": {
        "colab": {
          "base_uri": "https://localhost:8080/"
        },
        "id": "qQvNCvFHKm20",
        "outputId": "94ab0a24-221c-4a3c-c26f-b124f967ff8c"
      },
      "execution_count": null,
      "outputs": [
        {
          "output_type": "stream",
          "name": "stdout",
          "text": [
            "_RFDRHV7     1.0    2.0    9.0\n",
            "_MICHD                        \n",
            "1.0        31728   1243   2352\n",
            "2.0       344252  22449  32034\n",
            "-----column percentages-----\n",
            "_RFDRHV7       1.0       2.0     9.0\n",
            "_MICHD                              \n",
            "1.0       0.084387  0.052465  0.0684\n",
            "2.0       0.915613  0.947535  0.9316\n",
            "-----Chi-square calculations-----\n",
            "Chi-square value, p value, Degrees of freedom, Expected counts/frequencies\n",
            "(387.96187595537396, 5.690481842025233e-85, 2, array([[ 30596.69799888,   1928.02002497,   2798.28197614],\n",
            "       [345383.30200112,  21763.97997503,  31587.71802386]]))\n"
          ]
        }
      ]
    },
    {
      "cell_type": "markdown",
      "source": [
        "###Pre-processing"
      ],
      "metadata": {
        "id": "r6WDwiGrwzbQ"
      }
    },
    {
      "cell_type": "code",
      "source": [
        "data.dropna(inplace = True)"
      ],
      "metadata": {
        "colab": {
          "base_uri": "https://localhost:8080/"
        },
        "id": "0Z8UUgcZ2iSp",
        "outputId": "b34372a6-490c-4a93-a4ce-eee433a22234"
      },
      "execution_count": null,
      "outputs": [
        {
          "output_type": "stream",
          "name": "stderr",
          "text": [
            "/usr/local/lib/python3.8/dist-packages/pandas/util/_decorators.py:311: SettingWithCopyWarning: \n",
            "A value is trying to be set on a copy of a slice from a DataFrame\n",
            "\n",
            "See the caveats in the documentation: https://pandas.pydata.org/pandas-docs/stable/user_guide/indexing.html#returning-a-view-versus-a-copy\n",
            "  return func(*args, **kwargs)\n"
          ]
        }
      ]
    },
    {
      "cell_type": "code",
      "source": [
        "6 in data.iloc[0][:].tolist()"
      ],
      "metadata": {
        "colab": {
          "base_uri": "https://localhost:8080/"
        },
        "id": "UCFPIUfhz5lY",
        "outputId": "763b97bc-a2bb-46dd-cab6-26f1783dd38d"
      },
      "execution_count": null,
      "outputs": [
        {
          "output_type": "execute_result",
          "data": {
            "text/plain": [
              "True"
            ]
          },
          "metadata": {},
          "execution_count": 8
        }
      ]
    },
    {
      "cell_type": "code",
      "source": [
        "#Value 9 in these columns represents \"Don't know/ Refused/ Missing\" values\n",
        "drop_rows = []\n",
        "for i in range(0, data.shape[0]):\n",
        "  if 9 in data.iloc[i][:].tolist():\n",
        "    drop_rows.append(i)\n",
        "\n",
        "print(data.shape)\n",
        "data.drop(data.index[drop_rows], axis=0, inplace = True)"
      ],
      "metadata": {
        "colab": {
          "base_uri": "https://localhost:8080/"
        },
        "id": "LTx8BL0s26Ul",
        "outputId": "6e34cbae-17b2-4832-a93a-548bdf5bdcdb"
      },
      "execution_count": null,
      "outputs": [
        {
          "output_type": "stream",
          "name": "stdout",
          "text": [
            "(335481, 12)\n"
          ]
        },
        {
          "output_type": "stream",
          "name": "stderr",
          "text": [
            "/usr/local/lib/python3.8/dist-packages/pandas/core/frame.py:4906: SettingWithCopyWarning: \n",
            "A value is trying to be set on a copy of a slice from a DataFrame\n",
            "\n",
            "See the caveats in the documentation: https://pandas.pydata.org/pandas-docs/stable/user_guide/indexing.html#returning-a-view-versus-a-copy\n",
            "  return super().drop(\n"
          ]
        }
      ]
    },
    {
      "cell_type": "code",
      "source": [
        "data.head(10)"
      ],
      "metadata": {
        "colab": {
          "base_uri": "https://localhost:8080/",
          "height": 363
        },
        "id": "gMhEe3Pkx9J7",
        "outputId": "36434e7c-2e77-4257-a6dd-4d44d97f0bad"
      },
      "execution_count": null,
      "outputs": [
        {
          "output_type": "execute_result",
          "data": {
            "text/plain": [
              "    _RFHLTH  _PHYS14D  _MENT14D  _TOTINDA  _RFHYPE6  _RFCHOL3  _SEX  _AGE_G  \\\n",
              "0       2.0       3.0       2.0       2.0       1.0       2.0   2.0     6.0   \n",
              "2       1.0       1.0       1.0       2.0       2.0       1.0   2.0     6.0   \n",
              "3       1.0       1.0       2.0       1.0       2.0       2.0   2.0     5.0   \n",
              "4       2.0       3.0       1.0       1.0       1.0       2.0   1.0     6.0   \n",
              "5       1.0       1.0       1.0       2.0       1.0       1.0   1.0     6.0   \n",
              "6       1.0       3.0       1.0       2.0       2.0       1.0   1.0     5.0   \n",
              "7       2.0       1.0       1.0       1.0       2.0       2.0   1.0     5.0   \n",
              "9       1.0       3.0       2.0       1.0       2.0       1.0   2.0     6.0   \n",
              "10      2.0       1.0       3.0       2.0       2.0       2.0   2.0     6.0   \n",
              "11      1.0       2.0       3.0       2.0       2.0       2.0   2.0     6.0   \n",
              "\n",
              "    _BMI5CAT  _SMOKER3  _RFDRHV7  _MICHD  \n",
              "0        1.0       3.0       1.0     2.0  \n",
              "2        3.0       4.0       1.0     1.0  \n",
              "3        4.0       4.0       1.0     2.0  \n",
              "4        3.0       4.0       1.0     1.0  \n",
              "5        2.0       3.0       1.0     2.0  \n",
              "6        4.0       4.0       1.0     2.0  \n",
              "7        2.0       3.0       1.0     1.0  \n",
              "9        4.0       3.0       1.0     2.0  \n",
              "10       3.0       2.0       1.0     2.0  \n",
              "11       4.0       4.0       1.0     2.0  "
            ],
            "text/html": [
              "\n",
              "  <div id=\"df-c181bd28-b42f-46c4-bedb-8f4368d4fd52\">\n",
              "    <div class=\"colab-df-container\">\n",
              "      <div>\n",
              "<style scoped>\n",
              "    .dataframe tbody tr th:only-of-type {\n",
              "        vertical-align: middle;\n",
              "    }\n",
              "\n",
              "    .dataframe tbody tr th {\n",
              "        vertical-align: top;\n",
              "    }\n",
              "\n",
              "    .dataframe thead th {\n",
              "        text-align: right;\n",
              "    }\n",
              "</style>\n",
              "<table border=\"1\" class=\"dataframe\">\n",
              "  <thead>\n",
              "    <tr style=\"text-align: right;\">\n",
              "      <th></th>\n",
              "      <th>_RFHLTH</th>\n",
              "      <th>_PHYS14D</th>\n",
              "      <th>_MENT14D</th>\n",
              "      <th>_TOTINDA</th>\n",
              "      <th>_RFHYPE6</th>\n",
              "      <th>_RFCHOL3</th>\n",
              "      <th>_SEX</th>\n",
              "      <th>_AGE_G</th>\n",
              "      <th>_BMI5CAT</th>\n",
              "      <th>_SMOKER3</th>\n",
              "      <th>_RFDRHV7</th>\n",
              "      <th>_MICHD</th>\n",
              "    </tr>\n",
              "  </thead>\n",
              "  <tbody>\n",
              "    <tr>\n",
              "      <th>0</th>\n",
              "      <td>2.0</td>\n",
              "      <td>3.0</td>\n",
              "      <td>2.0</td>\n",
              "      <td>2.0</td>\n",
              "      <td>1.0</td>\n",
              "      <td>2.0</td>\n",
              "      <td>2.0</td>\n",
              "      <td>6.0</td>\n",
              "      <td>1.0</td>\n",
              "      <td>3.0</td>\n",
              "      <td>1.0</td>\n",
              "      <td>2.0</td>\n",
              "    </tr>\n",
              "    <tr>\n",
              "      <th>2</th>\n",
              "      <td>1.0</td>\n",
              "      <td>1.0</td>\n",
              "      <td>1.0</td>\n",
              "      <td>2.0</td>\n",
              "      <td>2.0</td>\n",
              "      <td>1.0</td>\n",
              "      <td>2.0</td>\n",
              "      <td>6.0</td>\n",
              "      <td>3.0</td>\n",
              "      <td>4.0</td>\n",
              "      <td>1.0</td>\n",
              "      <td>1.0</td>\n",
              "    </tr>\n",
              "    <tr>\n",
              "      <th>3</th>\n",
              "      <td>1.0</td>\n",
              "      <td>1.0</td>\n",
              "      <td>2.0</td>\n",
              "      <td>1.0</td>\n",
              "      <td>2.0</td>\n",
              "      <td>2.0</td>\n",
              "      <td>2.0</td>\n",
              "      <td>5.0</td>\n",
              "      <td>4.0</td>\n",
              "      <td>4.0</td>\n",
              "      <td>1.0</td>\n",
              "      <td>2.0</td>\n",
              "    </tr>\n",
              "    <tr>\n",
              "      <th>4</th>\n",
              "      <td>2.0</td>\n",
              "      <td>3.0</td>\n",
              "      <td>1.0</td>\n",
              "      <td>1.0</td>\n",
              "      <td>1.0</td>\n",
              "      <td>2.0</td>\n",
              "      <td>1.0</td>\n",
              "      <td>6.0</td>\n",
              "      <td>3.0</td>\n",
              "      <td>4.0</td>\n",
              "      <td>1.0</td>\n",
              "      <td>1.0</td>\n",
              "    </tr>\n",
              "    <tr>\n",
              "      <th>5</th>\n",
              "      <td>1.0</td>\n",
              "      <td>1.0</td>\n",
              "      <td>1.0</td>\n",
              "      <td>2.0</td>\n",
              "      <td>1.0</td>\n",
              "      <td>1.0</td>\n",
              "      <td>1.0</td>\n",
              "      <td>6.0</td>\n",
              "      <td>2.0</td>\n",
              "      <td>3.0</td>\n",
              "      <td>1.0</td>\n",
              "      <td>2.0</td>\n",
              "    </tr>\n",
              "    <tr>\n",
              "      <th>6</th>\n",
              "      <td>1.0</td>\n",
              "      <td>3.0</td>\n",
              "      <td>1.0</td>\n",
              "      <td>2.0</td>\n",
              "      <td>2.0</td>\n",
              "      <td>1.0</td>\n",
              "      <td>1.0</td>\n",
              "      <td>5.0</td>\n",
              "      <td>4.0</td>\n",
              "      <td>4.0</td>\n",
              "      <td>1.0</td>\n",
              "      <td>2.0</td>\n",
              "    </tr>\n",
              "    <tr>\n",
              "      <th>7</th>\n",
              "      <td>2.0</td>\n",
              "      <td>1.0</td>\n",
              "      <td>1.0</td>\n",
              "      <td>1.0</td>\n",
              "      <td>2.0</td>\n",
              "      <td>2.0</td>\n",
              "      <td>1.0</td>\n",
              "      <td>5.0</td>\n",
              "      <td>2.0</td>\n",
              "      <td>3.0</td>\n",
              "      <td>1.0</td>\n",
              "      <td>1.0</td>\n",
              "    </tr>\n",
              "    <tr>\n",
              "      <th>9</th>\n",
              "      <td>1.0</td>\n",
              "      <td>3.0</td>\n",
              "      <td>2.0</td>\n",
              "      <td>1.0</td>\n",
              "      <td>2.0</td>\n",
              "      <td>1.0</td>\n",
              "      <td>2.0</td>\n",
              "      <td>6.0</td>\n",
              "      <td>4.0</td>\n",
              "      <td>3.0</td>\n",
              "      <td>1.0</td>\n",
              "      <td>2.0</td>\n",
              "    </tr>\n",
              "    <tr>\n",
              "      <th>10</th>\n",
              "      <td>2.0</td>\n",
              "      <td>1.0</td>\n",
              "      <td>3.0</td>\n",
              "      <td>2.0</td>\n",
              "      <td>2.0</td>\n",
              "      <td>2.0</td>\n",
              "      <td>2.0</td>\n",
              "      <td>6.0</td>\n",
              "      <td>3.0</td>\n",
              "      <td>2.0</td>\n",
              "      <td>1.0</td>\n",
              "      <td>2.0</td>\n",
              "    </tr>\n",
              "    <tr>\n",
              "      <th>11</th>\n",
              "      <td>1.0</td>\n",
              "      <td>2.0</td>\n",
              "      <td>3.0</td>\n",
              "      <td>2.0</td>\n",
              "      <td>2.0</td>\n",
              "      <td>2.0</td>\n",
              "      <td>2.0</td>\n",
              "      <td>6.0</td>\n",
              "      <td>4.0</td>\n",
              "      <td>4.0</td>\n",
              "      <td>1.0</td>\n",
              "      <td>2.0</td>\n",
              "    </tr>\n",
              "  </tbody>\n",
              "</table>\n",
              "</div>\n",
              "      <button class=\"colab-df-convert\" onclick=\"convertToInteractive('df-c181bd28-b42f-46c4-bedb-8f4368d4fd52')\"\n",
              "              title=\"Convert this dataframe to an interactive table.\"\n",
              "              style=\"display:none;\">\n",
              "        \n",
              "  <svg xmlns=\"http://www.w3.org/2000/svg\" height=\"24px\"viewBox=\"0 0 24 24\"\n",
              "       width=\"24px\">\n",
              "    <path d=\"M0 0h24v24H0V0z\" fill=\"none\"/>\n",
              "    <path d=\"M18.56 5.44l.94 2.06.94-2.06 2.06-.94-2.06-.94-.94-2.06-.94 2.06-2.06.94zm-11 1L8.5 8.5l.94-2.06 2.06-.94-2.06-.94L8.5 2.5l-.94 2.06-2.06.94zm10 10l.94 2.06.94-2.06 2.06-.94-2.06-.94-.94-2.06-.94 2.06-2.06.94z\"/><path d=\"M17.41 7.96l-1.37-1.37c-.4-.4-.92-.59-1.43-.59-.52 0-1.04.2-1.43.59L10.3 9.45l-7.72 7.72c-.78.78-.78 2.05 0 2.83L4 21.41c.39.39.9.59 1.41.59.51 0 1.02-.2 1.41-.59l7.78-7.78 2.81-2.81c.8-.78.8-2.07 0-2.86zM5.41 20L4 18.59l7.72-7.72 1.47 1.35L5.41 20z\"/>\n",
              "  </svg>\n",
              "      </button>\n",
              "      \n",
              "  <style>\n",
              "    .colab-df-container {\n",
              "      display:flex;\n",
              "      flex-wrap:wrap;\n",
              "      gap: 12px;\n",
              "    }\n",
              "\n",
              "    .colab-df-convert {\n",
              "      background-color: #E8F0FE;\n",
              "      border: none;\n",
              "      border-radius: 50%;\n",
              "      cursor: pointer;\n",
              "      display: none;\n",
              "      fill: #1967D2;\n",
              "      height: 32px;\n",
              "      padding: 0 0 0 0;\n",
              "      width: 32px;\n",
              "    }\n",
              "\n",
              "    .colab-df-convert:hover {\n",
              "      background-color: #E2EBFA;\n",
              "      box-shadow: 0px 1px 2px rgba(60, 64, 67, 0.3), 0px 1px 3px 1px rgba(60, 64, 67, 0.15);\n",
              "      fill: #174EA6;\n",
              "    }\n",
              "\n",
              "    [theme=dark] .colab-df-convert {\n",
              "      background-color: #3B4455;\n",
              "      fill: #D2E3FC;\n",
              "    }\n",
              "\n",
              "    [theme=dark] .colab-df-convert:hover {\n",
              "      background-color: #434B5C;\n",
              "      box-shadow: 0px 1px 3px 1px rgba(0, 0, 0, 0.15);\n",
              "      filter: drop-shadow(0px 1px 2px rgba(0, 0, 0, 0.3));\n",
              "      fill: #FFFFFF;\n",
              "    }\n",
              "  </style>\n",
              "\n",
              "      <script>\n",
              "        const buttonEl =\n",
              "          document.querySelector('#df-c181bd28-b42f-46c4-bedb-8f4368d4fd52 button.colab-df-convert');\n",
              "        buttonEl.style.display =\n",
              "          google.colab.kernel.accessAllowed ? 'block' : 'none';\n",
              "\n",
              "        async function convertToInteractive(key) {\n",
              "          const element = document.querySelector('#df-c181bd28-b42f-46c4-bedb-8f4368d4fd52');\n",
              "          const dataTable =\n",
              "            await google.colab.kernel.invokeFunction('convertToInteractive',\n",
              "                                                     [key], {});\n",
              "          if (!dataTable) return;\n",
              "\n",
              "          const docLinkHtml = 'Like what you see? Visit the ' +\n",
              "            '<a target=\"_blank\" href=https://colab.research.google.com/notebooks/data_table.ipynb>data table notebook</a>'\n",
              "            + ' to learn more about interactive tables.';\n",
              "          element.innerHTML = '';\n",
              "          dataTable['output_type'] = 'display_data';\n",
              "          await google.colab.output.renderOutput(dataTable, element);\n",
              "          const docLink = document.createElement('div');\n",
              "          docLink.innerHTML = docLinkHtml;\n",
              "          element.appendChild(docLink);\n",
              "        }\n",
              "      </script>\n",
              "    </div>\n",
              "  </div>\n",
              "  "
            ]
          },
          "metadata": {},
          "execution_count": 7
        }
      ]
    },
    {
      "cell_type": "code",
      "source": [
        "data.shape"
      ],
      "metadata": {
        "colab": {
          "base_uri": "https://localhost:8080/"
        },
        "id": "CjOo_qvQ2mA-",
        "outputId": "23256732-1b33-4d11-9b2d-39e83cc9c854"
      },
      "execution_count": null,
      "outputs": [
        {
          "output_type": "execute_result",
          "data": {
            "text/plain": [
              "(307222, 12)"
            ]
          },
          "metadata": {},
          "execution_count": 37
        }
      ]
    },
    {
      "cell_type": "code",
      "source": [
        "#datavizs\n",
        "import matplotlib.pyplot as plt"
      ],
      "metadata": {
        "id": "PjyAslJSrGuK"
      },
      "execution_count": null,
      "outputs": []
    },
    {
      "cell_type": "code",
      "source": [
        "X, y = data.iloc[:, :-1], data.iloc[:, -1]\n",
        "print(X.shape, y.shape)"
      ],
      "metadata": {
        "colab": {
          "base_uri": "https://localhost:8080/"
        },
        "id": "x5h6GsNV1apH",
        "outputId": "d20bce28-cbf1-45be-83c7-065f28ceabb7"
      },
      "execution_count": null,
      "outputs": [
        {
          "output_type": "stream",
          "name": "stdout",
          "text": [
            "(307222, 11) (307222,)\n"
          ]
        }
      ]
    },
    {
      "cell_type": "code",
      "source": [
        "y = y.replace(2.0, 0).astype(int)"
      ],
      "metadata": {
        "id": "xc0A7PpDogR9"
      },
      "execution_count": null,
      "outputs": []
    },
    {
      "cell_type": "code",
      "source": [
        "#encoding\n",
        "from sklearn.preprocessing import OneHotEncoder\n",
        "\n",
        "oh_en = OneHotEncoder(handle_unknown='ignore', sparse=False)\n",
        "X = oh_en.fit_transform(X)\n",
        "print(X.shape)"
      ],
      "metadata": {
        "colab": {
          "base_uri": "https://localhost:8080/"
        },
        "id": "b0xEhWP8qcIS",
        "outputId": "49a2355a-fe85-4583-e69f-cef77bf6e54c"
      },
      "execution_count": null,
      "outputs": [
        {
          "output_type": "stream",
          "name": "stdout",
          "text": [
            "(307222, 32)\n"
          ]
        }
      ]
    },
    {
      "cell_type": "code",
      "source": [
        "oh_en.categories_"
      ],
      "metadata": {
        "colab": {
          "base_uri": "https://localhost:8080/"
        },
        "id": "-LUetrqe3Jje",
        "outputId": "53abea84-2373-448c-b023-44a1c4261d1f"
      },
      "execution_count": null,
      "outputs": [
        {
          "output_type": "execute_result",
          "data": {
            "text/plain": [
              "[array([1., 2.]),\n",
              " array([1., 2., 3.]),\n",
              " array([1., 2., 3.]),\n",
              " array([1., 2.]),\n",
              " array([1., 2.]),\n",
              " array([1., 2.]),\n",
              " array([1., 2.]),\n",
              " array([1., 2., 3., 4., 5., 6.]),\n",
              " array([1., 2., 3., 4.]),\n",
              " array([1., 2., 3., 4.]),\n",
              " array([1., 2.])]"
            ]
          },
          "metadata": {},
          "execution_count": 29
        }
      ]
    },
    {
      "cell_type": "code",
      "source": [
        "#feature scaling\n",
        "#pca"
      ],
      "metadata": {
        "id": "8RsEf-bzqkeh"
      },
      "execution_count": null,
      "outputs": []
    },
    {
      "cell_type": "code",
      "source": [
        "#sampling\n",
        "#https://imbalanced-learn.org/stable/over_sampling.html#from-random-over-sampling-to-smote-and-adasyn\n",
        "from imblearn.over_sampling import ADASYN\n",
        "from collections import Counter\n",
        "\n",
        "print(Counter(y))\n",
        "X_samp, y_samp = ADASYN().fit_resample(X, y)\n",
        "print(Counter(y_samp))"
      ],
      "metadata": {
        "colab": {
          "base_uri": "https://localhost:8080/"
        },
        "id": "2vGLAe1eDz3V",
        "outputId": "38a91a7d-d6c6-49ba-e9dd-ada95be76983"
      },
      "execution_count": null,
      "outputs": [
        {
          "output_type": "stream",
          "name": "stdout",
          "text": [
            "Counter({0: 279669, 1: 27553})\n",
            "Counter({1: 280784, 0: 279669})\n"
          ]
        }
      ]
    },
    {
      "cell_type": "code",
      "source": [
        "#train-test split\n",
        "\n",
        "from sklearn.model_selection import train_test_split\n",
        "Xtrain, Xtest, ytrain, ytest = train_test_split(X_samp, y_samp, test_size = 0.33, random_state = 9)\n",
        "#print(xtrain.shape, xtest.shape, ytrain.shape, ytest.shape)"
      ],
      "metadata": {
        "id": "QyTtZ3uBrNE9"
      },
      "execution_count": null,
      "outputs": []
    },
    {
      "cell_type": "code",
      "source": [
        "from sklearn.metrics import ConfusionMatrixDisplay, confusion_matrix, classification_report, roc_curve, auc, roc_auc_score\n",
        "\n",
        "def evaluation(X_test, y_test, model):\n",
        "  ypred = model.predict(X_test)\n",
        "  #Classification report\n",
        "  print(classification_report(y_test, ypred))\n",
        "  #Confusion matrix: https://www.w3schools.com/python/python_ml_confusion_matrix.asp\n",
        "  ConfusionMatrixDisplay(confusion_matrix = confusion_matrix(y_test, ypred)).plot()\n",
        "  plt.show()\n",
        "  print()\n",
        "  '''\n",
        "  #ROC Curve and Area: https://scikit-learn.org/stable/auto_examples/model_selection/plot_roc.html\n",
        "  fpr, tpr, _ = roc_curve(y_test, ypred)\n",
        "  roc_auc = auc(fpr, tpr)\n",
        "  plt.figure()\n",
        "  plt.plot(\n",
        "      fpr,\n",
        "      tpr,\n",
        "      color=\"darkorange\",\n",
        "      label=\"ROC curve (area = %0.2f)\" % roc_auc,\n",
        "  )\n",
        "  plt.plot([0, 1], [0, 1], color=\"navy\", linestyle=\"--\")\n",
        "  plt.xlabel(\"False Positive Rate\")\n",
        "  plt.ylabel(\"True Positive Rate\")\n",
        "  plt.title(\"Receiver operating characteristic example\")\n",
        "  plt.legend(loc=\"lower right\")\n",
        "  plt.show()\n",
        "  '''"
      ],
      "metadata": {
        "id": "mbwXwDZkRxBo"
      },
      "execution_count": null,
      "outputs": []
    },
    {
      "cell_type": "code",
      "source": [
        "#Models\n",
        "#Logistic Regression\n",
        "\n",
        "from sklearn.linear_model import LogisticRegression\n",
        "from sklearn.model_selection import GridSearchCV\n",
        "\n",
        "log = GridSearchCV(LogisticRegression(), param_grid = {'C': [0.01, 1, 10 ]})\n",
        "log.fit(Xtrain, ytrain)\n",
        "evaluation(Xtest, ytest, log)"
      ],
      "metadata": {
        "colab": {
          "base_uri": "https://localhost:8080/",
          "height": 453
        },
        "id": "mlVtcCyBqqK2",
        "outputId": "e61deffb-580b-4c9c-c025-02a3e2e3c590"
      },
      "execution_count": null,
      "outputs": [
        {
          "output_type": "stream",
          "name": "stdout",
          "text": [
            "              precision    recall  f1-score   support\n",
            "\n",
            "           0       0.75      0.69      0.72     92226\n",
            "           1       0.71      0.77      0.74     92724\n",
            "\n",
            "    accuracy                           0.73    184950\n",
            "   macro avg       0.73      0.73      0.73    184950\n",
            "weighted avg       0.73      0.73      0.73    184950\n",
            "\n"
          ]
        },
        {
          "output_type": "display_data",
          "data": {
            "text/plain": [
              "<Figure size 432x288 with 2 Axes>"
            ],
            "image/png": "[encoded data removed]"
          },
          "metadata": {
            "needs_background": "light"
          }
        },
        {
          "output_type": "stream",
          "name": "stdout",
          "text": [
            "\n"
          ]
        }
      ]
    },
    {
      "cell_type": "code",
      "source": [
        "#Naive Bayes\n",
        "from sklearn.naive_bayes import GaussianNB\n",
        "\n",
        "gnb = GridSearchCV(GaussianNB(), param_grid = {'var_smoothing': [0.01, 1, 10 ]})\n",
        "gnb.fit(Xtrain, ytrain)\n",
        "evaluation(Xtest, ytest, gnb)"
      ],
      "metadata": {
        "colab": {
          "base_uri": "https://localhost:8080/",
          "height": 453
        },
        "id": "DPERZztnP_QJ",
        "outputId": "d7f11c1b-2ba5-4834-c4a8-65b14a1e5869"
      },
      "execution_count": null,
      "outputs": [
        {
          "output_type": "stream",
          "name": "stdout",
          "text": [
            "              precision    recall  f1-score   support\n",
            "\n",
            "           0       0.74      0.67      0.70     92226\n",
            "           1       0.70      0.77      0.73     92724\n",
            "\n",
            "    accuracy                           0.72    184950\n",
            "   macro avg       0.72      0.72      0.72    184950\n",
            "weighted avg       0.72      0.72      0.72    184950\n",
            "\n"
          ]
        },
        {
          "output_type": "display_data",
          "data": {
            "text/plain": [
              "<Figure size 432x288 with 2 Axes>"
            ],
            "image/png": "[encoded data removed]"
          },
          "metadata": {
            "needs_background": "light"
          }
        },
        {
          "output_type": "stream",
          "name": "stdout",
          "text": [
            "\n"
          ]
        }
      ]
    },
    {
      "cell_type": "code",
      "source": [
        "#Decision Tree\n",
        "from sklearn.tree import DecisionTreeClassifier\n",
        "\n",
        "dtc = GridSearchCV(DecisionTreeClassifier(), param_grid = {'max_depth': [x for x in range(5, 100, 5)]})\n",
        "dtc.fit(Xtrain, ytrain)\n",
        "evaluation(Xtest, ytest, dtc)"
      ],
      "metadata": {
        "colab": {
          "base_uri": "https://localhost:8080/",
          "height": 453
        },
        "id": "4kav8R75tHKo",
        "outputId": "5b5f3d78-47cd-461e-e1fa-edf7c04fac6e"
      },
      "execution_count": null,
      "outputs": [
        {
          "output_type": "stream",
          "name": "stdout",
          "text": [
            "              precision    recall  f1-score   support\n",
            "\n",
            "           0       0.84      0.73      0.78     92226\n",
            "           1       0.76      0.86      0.81     92724\n",
            "\n",
            "    accuracy                           0.79    184950\n",
            "   macro avg       0.80      0.79      0.79    184950\n",
            "weighted avg       0.80      0.79      0.79    184950\n",
            "\n"
          ]
        },
        {
          "output_type": "display_data",
          "data": {
            "text/plain": [
              "<Figure size 432x288 with 2 Axes>"
            ],
            "image/png": "[encoded data removed]"
          },
          "metadata": {
            "needs_background": "light"
          }
        },
        {
          "output_type": "stream",
          "name": "stdout",
          "text": [
            "\n"
          ]
        }
      ]
    },
    {
      "cell_type": "code",
      "source": [
        "#BaggingClassifier\n",
        "from sklearn.tree import DecisionTreeClassifier\n",
        "from sklearn.ensemble import BaggingClassifier\n",
        "\n",
        "bag_dtmodel = GridSearchCV(BaggingClassifier(), param_grid = {'n_estimators': [100]})\n",
        "bag_dtmodel.fit(Xtrain, ytrain)\n",
        "evaluation(Xtest, ytest, bag_dtmodel)"
      ],
      "metadata": {
        "colab": {
          "base_uri": "https://localhost:8080/",
          "height": 457
        },
        "id": "dDRX5VunVLIk",
        "outputId": "797b67a5-31db-4f0b-99a5-ee38b2b8e874"
      },
      "execution_count": null,
      "outputs": [
        {
          "output_type": "stream",
          "name": "stdout",
          "text": [
            "              precision    recall  f1-score   support\n",
            "\n",
            "           0       0.84      0.73      0.78     92226\n",
            "           1       0.76      0.86      0.81     92724\n",
            "\n",
            "    accuracy                           0.79    184950\n",
            "   macro avg       0.80      0.79      0.79    184950\n",
            "weighted avg       0.80      0.79      0.79    184950\n",
            "\n"
          ]
        },
        {
          "output_type": "display_data",
          "data": {
            "text/plain": [
              "<Figure size 432x288 with 2 Axes>"
            ],
            "image/png": "[encoded data removed]"
          },
          "metadata": {
            "needs_background": "light"
          }
        },
        {
          "output_type": "stream",
          "name": "stdout",
          "text": [
            "\n"
          ]
        }
      ]
    },
    {
      "cell_type": "code",
      "source": [
        "#AdaBoostClassifier\n",
        "from sklearn.ensemble import AdaBoostClassifier\n",
        "\n",
        "ada_dtmodel = GridSearchCV(AdaBoostClassifier(), param_grid = {'n_estimators': [100]})\n",
        "ada_dtmodel.fit(Xtrain, ytrain)\n",
        "evaluation(Xtest, ytest, ada_dtmodel)"
      ],
      "metadata": {
        "colab": {
          "base_uri": "https://localhost:8080/",
          "height": 453
        },
        "id": "ix5wOD3deYvw",
        "outputId": "8e69b023-803c-46db-fef6-525abe78a474"
      },
      "execution_count": null,
      "outputs": [
        {
          "output_type": "stream",
          "name": "stdout",
          "text": [
            "              precision    recall  f1-score   support\n",
            "\n",
            "           0       0.77      0.72      0.75     92226\n",
            "           1       0.74      0.79      0.76     92724\n",
            "\n",
            "    accuracy                           0.76    184950\n",
            "   macro avg       0.76      0.76      0.76    184950\n",
            "weighted avg       0.76      0.76      0.76    184950\n",
            "\n"
          ]
        },
        {
          "output_type": "display_data",
          "data": {
            "text/plain": [
              "<Figure size 432x288 with 2 Axes>"
            ],
            "image/png": "[encoded data removed]"
          },
          "metadata": {
            "needs_background": "light"
          }
        },
        {
          "output_type": "stream",
          "name": "stdout",
          "text": [
            "\n"
          ]
        }
      ]
    },
    {
      "cell_type": "code",
      "source": [
        "#KNN\n",
        "from sklearn.neighbors import KNeighborsClassifier\n",
        "\n",
        "knn = GridSearchCV(KNeighborsClassifier(), param_grid = {'n_neighbors': [5, 10, 15, 20]})\n",
        "knn.fit(Xtrain, ytrain)\n",
        "evaluation(Xtest, ytest, knn)"
      ],
      "metadata": {
        "colab": {
          "base_uri": "https://localhost:8080/",
          "height": 236
        },
        "id": "KkQNreEYazYl",
        "outputId": "595406cb-137f-4711-f728-f96c685093ca"
      },
      "execution_count": null,
      "outputs": [
        {
          "output_type": "error",
          "ename": "NameError",
          "evalue": "ignored",
          "traceback": [
            "\u001b[0;31m---------------------------------------------------------------------------\u001b[0m",
            "\u001b[0;31mNameError\u001b[0m                                 Traceback (most recent call last)",
            "\u001b[0;32m<ipython-input-17-3ab8ec86e1b5>\u001b[0m in \u001b[0;36m<module>\u001b[0;34m\u001b[0m\n\u001b[1;32m      2\u001b[0m \u001b[0;32mfrom\u001b[0m \u001b[0msklearn\u001b[0m\u001b[0;34m.\u001b[0m\u001b[0mneighbors\u001b[0m \u001b[0;32mimport\u001b[0m \u001b[0mKNeighborsClassifier\u001b[0m\u001b[0;34m\u001b[0m\u001b[0;34m\u001b[0m\u001b[0m\n\u001b[1;32m      3\u001b[0m \u001b[0;34m\u001b[0m\u001b[0m\n\u001b[0;32m----> 4\u001b[0;31m \u001b[0mknn\u001b[0m \u001b[0;34m=\u001b[0m \u001b[0mGridSearchCV\u001b[0m\u001b[0;34m(\u001b[0m\u001b[0mKNeighborsClassifier\u001b[0m\u001b[0;34m(\u001b[0m\u001b[0;34m)\u001b[0m\u001b[0;34m,\u001b[0m \u001b[0mparam_grid\u001b[0m \u001b[0;34m=\u001b[0m \u001b[0;34m{\u001b[0m\u001b[0;34m'n_neighbors'\u001b[0m\u001b[0;34m:\u001b[0m \u001b[0;34m[\u001b[0m\u001b[0;36m5\u001b[0m\u001b[0;34m,\u001b[0m \u001b[0;36m10\u001b[0m\u001b[0;34m,\u001b[0m \u001b[0;36m15\u001b[0m\u001b[0;34m,\u001b[0m \u001b[0;36m20\u001b[0m\u001b[0;34m]\u001b[0m\u001b[0;34m}\u001b[0m\u001b[0;34m)\u001b[0m\u001b[0;34m\u001b[0m\u001b[0;34m\u001b[0m\u001b[0m\n\u001b[0m\u001b[1;32m      5\u001b[0m \u001b[0mknn\u001b[0m\u001b[0;34m.\u001b[0m\u001b[0mfit\u001b[0m\u001b[0;34m(\u001b[0m\u001b[0mXtrain\u001b[0m\u001b[0;34m,\u001b[0m \u001b[0mytrain\u001b[0m\u001b[0;34m)\u001b[0m\u001b[0;34m\u001b[0m\u001b[0;34m\u001b[0m\u001b[0m\n\u001b[1;32m      6\u001b[0m \u001b[0mevaluation\u001b[0m\u001b[0;34m(\u001b[0m\u001b[0mXtest\u001b[0m\u001b[0;34m,\u001b[0m \u001b[0mytest\u001b[0m\u001b[0;34m,\u001b[0m \u001b[0mknn\u001b[0m\u001b[0;34m)\u001b[0m\u001b[0;34m\u001b[0m\u001b[0;34m\u001b[0m\u001b[0m\n",
            "\u001b[0;31mNameError\u001b[0m: name 'GridSearchCV' is not defined"
          ]
        }
      ]
    },
    {
      "cell_type": "code",
      "source": [
        "#SVM\n",
        "from sklearn.svm import SVC\n",
        "\n",
        "svm = GridSearchCV(SVC(), param_grid = {'C' : [0.01, 0.1, 1]})\n",
        "svm.fit(Xtrain, ytrain)\n",
        "evaluation(Xtest, ytest, svm)"
      ],
      "metadata": {
        "id": "ElNISdThVNHN"
      },
      "execution_count": null,
      "outputs": []
    },
    {
      "cell_type": "code",
      "source": [
        "#neural nets\n",
        "#Re-used code from HW6\n",
        "import tensorflow as tf\n",
        "\n",
        "model = tf.keras.Sequential([\n",
        "      tf.keras.layers.Flatten(input_shape=(375503, 32)),\n",
        "      tf.keras.layers.Dense(128, activation='relu'),\n",
        "      tf.keras.layers.Dropout(0.4),\n",
        "      tf.keras.layers.Dense(10)\n",
        "  ])\n",
        "\n",
        "model.compile(optimizer='adam',\n",
        "              loss=tf.keras.losses.SparseCategoricalCrossentropy(from_logits=True),\n",
        "              metrics=['accuracy'])\n",
        "\n",
        "model.fit(Xtrain, ytrain, epochs=10)\n",
        "\n",
        "test_loss, test_acc = model.evaluate(Xtest, ytest, verbose=2)\n",
        "\n",
        "print('\\nTest accuracy:', test_acc)"
      ],
      "metadata": {
        "id": "WY-VNc2SVOHG"
      },
      "execution_count": null,
      "outputs": []
    }
  ]
}